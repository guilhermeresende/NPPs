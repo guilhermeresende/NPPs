{
 "cells": [
  {
   "cell_type": "code",
   "execution_count": 10,
   "metadata": {},
   "outputs": [],
   "source": [
    "import sys\n",
    "sys.path.append(\"../granger-busca\")\n",
    "sys.path.append(\"../framework\")\n",
    "import numpy as np\n",
    "import tick.hawkes as hk\n",
    "from pp_metrics import *\n",
    "import sklearn\n",
    "import scipy.stats as ss\n",
    "import os\n",
    "from random_search import *\n",
    "from aux_funcs import *\n",
    "import matplotlib.pyplot as plt"
   ]
  },
  {
   "cell_type": "code",
   "execution_count": 23,
   "metadata": {},
   "outputs": [
    {
     "name": "stderr",
     "output_type": "stream",
     "text": [
      "/usr/local/lib/python3.6/dist-packages/tick/base/learner/learner_optim.py:313: RuntimeWarning: Solver \"bfgs\" has no settable step\n",
      "  RuntimeWarning)\n"
     ]
    },
    {
     "name": "stdout",
     "output_type": "stream",
     "text": [
      "(1.3186785747923757, 9186.505389680688, 'l2', 'bfgs', 3.3431615935095, 3.847477463117465e-06)\n",
      "Launching the solver BFGS...\n",
      "  n_iter  |    obj    |  rel_obj \n",
      "        0 |  1.68e+04 |  3.39e-01\n",
      "       10 |  9.89e-01 |  2.14e-01\n",
      "       20 |  4.87e-03 |  1.32e-01\n",
      "       30 |  5.51e-05 |  2.22e-01\n",
      "       40 | -4.93e-05 |  9.47e-04\n",
      "       50 | -5.00e-05 |  2.80e-05\n",
      "       60 | -5.00e-05 |  3.19e-06\n",
      "       70 | -5.00e-05 |  1.16e-07\n",
      "Done solving using BFGS in 4.963202953338623 seconds\n"
     ]
    }
   ],
   "source": [
    "file_list = [\"sx-mathoverflow\"]\n",
    "datapath = {}\n",
    "for file in file_list:\n",
    "    if file == \"chalearn\":\n",
    "        datapath[file] = (\"../data/\"+file+\"/\"+file+\"_ticks.dat\",\"../data/\"+file+\"/\"+file+\"_groundtruth.npy\")\n",
    "    elif file == \"memetracker_2009-01\":\n",
    "        datapath[file] = (\"../../../Desktop/datasets/\"+file+\"_ticks_topmonth.dat\",\"../../../Desktop/datasets/\"+file+\"_groundtruth_topmonth.npy\")\n",
    "    else:\n",
    "        datapath[file] = (\"../data/\"+file+\"/\"+file+\"_ticks_topmonth.dat\",\"../data/\"+file+\"/\"+file+\"_groundtruth_topmonth.npy\")\n",
    "        \n",
    "for file in file_list:\n",
    "\n",
    "    timestamps, groundTruth = read_timestamps_groundtruth(datapath[file][0],datapath[file][1])\n",
    "    \n",
    "    params = select_hyper_ExpKern(timestamps, n_iter = 180)\n",
    "    print(params)\n",
    "    decays, C, penalty, solver_exp, step, tol = params\n",
    "    model = hk.HawkesExpKern(decays=decays, gofit='least-squares', penalty=penalty, C=C, solver=solver_exp, step=step, tol=tol, max_iter=300, verbose=True)\n",
    "    model.fit(timestamps)\n",
    "    "
   ]
  },
  {
   "cell_type": "code",
   "execution_count": 24,
   "metadata": {},
   "outputs": [
    {
     "data": {
      "image/png": "[encoded data removed]",
      "text/plain": [
       "<Figure size 432x288 with 1 Axes>"
      ]
     },
     "metadata": {
      "needs_background": "light"
     },
     "output_type": "display_data"
    },
    {
     "data": {
      "image/png": "[encoded data removed]",
      "text/plain": [
       "<Figure size 432x288 with 1 Axes>"
      ]
     },
     "metadata": {
      "needs_background": "light"
     },
     "output_type": "display_data"
    }
   ],
   "source": [
    "model = hk.HawkesExpKern(decays=25, gofit='least-squares', penalty=penalty, C=C, solver=solver_exp, step=step, tol=tol, max_iter=300, verbose=True)\n",
    "model.fit(timestamps)\n",
    "\n",
    "plt.imshow(groundTruth)\n",
    "plt.show()\n",
    "plt.imshow(model.get_kernel_norms())\n",
    "plt.show()\n"
   ]
  },
  {
   "cell_type": "code",
   "execution_count": null,
   "metadata": {},
   "outputs": [],
   "source": []
  }
 ],
 "metadata": {
  "kernelspec": {
   "display_name": "Python 3",
   "language": "python",
   "name": "python3"
  },
  "language_info": {
   "codemirror_mode": {
    "name": "ipython",
    "version": 3
   },
   "file_extension": ".py",
   "mimetype": "text/x-python",
   "name": "python",
   "nbconvert_exporter": "python",
   "pygments_lexer": "ipython3",
   "version": "3.6.7"
  }
 },
 "nbformat": 4,
 "nbformat_minor": 2
}
