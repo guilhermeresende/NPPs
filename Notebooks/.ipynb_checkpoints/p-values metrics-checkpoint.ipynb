{
 "cells": [
  {
   "cell_type": "code",
   "execution_count": 1,
   "metadata": {},
   "outputs": [],
   "source": [
    "import numpy as np\n",
    "import scipy.stats as ss\n",
    "import sklearn\n",
    "import sklearn.metrics\n",
    "import sys\n",
    "import tick.hawkes as hk\n",
    "from bisect import bisect\n",
    "import matplotlib.pyplot as plt\n",
    "import seaborn as sns\n",
    "import pandas as pd\n",
    "import scipy\n",
    "from sklearn.linear_model import LogisticRegression\n",
    "sys.path.append(\"../framework\")\n",
    "from aux_funcs import *\n",
    "from pp_metrics import *"
   ]
  },
  {
   "cell_type": "code",
   "execution_count": 11,
   "metadata": {},
   "outputs": [],
   "source": [
    "np.seterr(over = 'warn', under = 'warn')\n",
    "\n",
    "\n",
    "def rankcorr(A_true, A_pred, pvalues = False): \n",
    "    assert len(A_true) == len(A_pred)\n",
    "\n",
    "    ts = []\n",
    "    for i in range(len(A_pred)):\n",
    "        tau = ss.kendalltau(A_true[i], A_pred[i])\n",
    "        t = tau[0]\n",
    "        pvalue = tau[1]\n",
    "        if not np.isnan(t):\n",
    "            if (pvalues):\n",
    "                ts.append(pvalue)\n",
    "            else:\n",
    "                ts.append(t)\n",
    "    return ts\n",
    "\n",
    "def precision(A_true, A_pred, k = 10):\n",
    "    res = 0.0\n",
    "    precisionl = []\n",
    "    for i in range(A_true.shape[0]):\n",
    "        k_not_0 = np.sum(A_true[0]>0)\n",
    "        sorted_idx_pred = sorted(range(len(A_pred[i])), key=lambda x:A_pred[i][x], reverse=True)[:k_not_0]\n",
    "        sorted_idx_true = sorted(range(len(A_true[i])), key=lambda x:A_true[i][x], reverse=True)[:k_not_0]\n",
    "        precisionl.append(len(np.intersect1d(sorted_idx_pred,sorted_idx_true,assume_unique=True))/k_not_0) \n",
    "    return precisionl\n",
    "\n",
    "def rel_err(A_true, A_pred):\n",
    "    err = []\n",
    "    for i in range(len(A_true)):\n",
    "        v=0.0\n",
    "        for j in range(len(A_true[i])):\n",
    "            if A_true[i][j]!=0:\n",
    "                v+=abs(A_true[i][j]-A_pred[i][j])/abs(A_true[i][j])\n",
    "            else:\n",
    "                v+=abs(A_pred[i][j])\n",
    "        err.append(v)\n",
    "    return err\n",
    "\n",
    "def rel_err_baseline(ground_truth, baselines):\n",
    "    rel_err = 0\n",
    "    err = []\n",
    "    for i in range(len(baselines)):\n",
    "        err.append(baselines[i]-ground_truth[i])**2\n",
    "        rel_err+=(baselines[i]-ground_truth[i])**2\n",
    "    rel_err= rel_err**0.5 / (sum([mu**2 for mu in ground_truth]))**0.5\n",
    "    return rel_err\n",
    "\n",
    "def ndcg_bin(A_true, A_pred):\n",
    "    dcgp_avg = []\n",
    "    for i in range(len(A_pred)):\n",
    "        dcgp = 0\n",
    "        idcgp = 0\n",
    "        sorted_idx = sorted(range(len(A_pred[i])), key=lambda x:A_pred[i][x], reverse=True)\n",
    "        gt_idx = 0\n",
    "        for j in range(len(A_pred[i])):\n",
    "            if A_true[i][sorted_idx[j]] != 0:\n",
    "                dcgp += (1)/np.log2(j+2)\n",
    "            if A_true[i][j] != 0:\n",
    "                idcgp += (1)/np.log2(gt_idx+2)\n",
    "                gt_idx +=1\n",
    "        if(np.any(A_true[i])):\n",
    "            dcgp_avg.append(dcgp/idcgp)\n",
    "    assert len(dcgp_avg) > 0\n",
    "    return dcgp_avg\n",
    "\n",
    "def ndcg(A_true, A_pred):\n",
    "    dcgp_avg = []\n",
    "    for i in range(len(A_pred)):\n",
    "        dcgp = 0\n",
    "        idcgp = 0\n",
    "        sorted_idx_true = sorted(range(len(A_true[i])), key=lambda x:A_true[i][x], reverse=True)\n",
    "        sorted_idx_pred = sorted(range(len(A_pred[i])), key=lambda x:A_pred[i][x], reverse=True)\n",
    "        gt_idx = 0\n",
    "        for j in range(len(A_pred[i])):\n",
    "            relpred = A_true[i][sorted_idx_pred[j]]\n",
    "            reltrue = A_true[i][sorted_idx_true[j]]\n",
    "            if A_pred[i][sorted_idx_pred[j]] > 0:\n",
    "                dcgp += (2**relpred - 1)/np.log2(j+2)\n",
    "            idcgp += (2**reltrue - 1)/np.log2(j+2)\n",
    "        if(np.any(A_true[i])):\n",
    "            dcgp_avg.append(dcgp/idcgp)\n",
    "    assert len(dcgp_avg) > 0\n",
    "    return dcgp_avg\n",
    "\n",
    "\n",
    "\n",
    "def roc_auc(A_true, A_pred):\n",
    "    binGT = A_true > 0\n",
    "    true_values = binGT.flatten()\n",
    "    y_values = A_pred.flatten()\n",
    "    rocl = []\n",
    "    for i in range(len(A_pred)):\n",
    "        if np.any(binGT[i]):\n",
    "            rocl.append(sklearn.metrics.roc_auc_score(binGT[i], A_pred[i]))\n",
    "    return rocl\n",
    "\n",
    "def nrmse(A_true, A_pred):\n",
    "    err = []\n",
    "    for i in range(len(A_true)):\n",
    "        v = 0\n",
    "        for j in range(len(A_true[i])):\n",
    "            v += (A_true[i][j]-A_pred[i][j])**2\n",
    "        if(np.any(A_true[i])):\n",
    "            v = ((1/len(A_true[i]))*v)**0.5/(max(A_true[i])-min(A_true[i]))\n",
    "            err.append(v)\n",
    "    assert len(err) > 0\n",
    "    return err\n",
    "\n",
    "def apbin(A_true, A_pred):\n",
    "    map_avg = []\n",
    "    binGT = A_true > 0.\n",
    "    for i in range(len(A_pred)):\n",
    "        ap = 0\n",
    "        sorted_idx = sorted(range(len(A_pred[i])), key=lambda x:A_pred[i][x], reverse=True)\n",
    "        num_correct = 0\n",
    "        for k in range(1,len(A_pred[i])+1):\n",
    "            if (binGT[i][sorted_idx[k-1]]) and (A_pred[i][sorted_idx[k-1]]):\n",
    "                num_correct += 1\n",
    "                ap += num_correct/k\n",
    "        map_avg.append(ap/np.sum(binGT[i]))  \n",
    "    return map_avg\n",
    "\n",
    "def apk(A_true, A_pred):\n",
    "    map_avg = []\n",
    "    for i in range(len(A_pred)):\n",
    "        idx_pred = np.arange(len(A_pred[i]))[A_pred[i]!=0]\n",
    "        sorted_idx_pred = np.array(sorted(idx_pred, key=lambda x:A_pred[i][x], reverse=True))\n",
    "        sorted_idx_true = np.array(sorted(range(len(A_true[i])), key=lambda x:A_true[i][x], reverse=True))\n",
    "        pk = 0\n",
    "        numTrue = np.sum(A_true[i]>0)\n",
    "        for k in range(1,numTrue+1):\n",
    "            pk += len(np.intersect1d(sorted_idx_pred[:k],sorted_idx_true[:k],assume_unique=True))/k  \n",
    "        map_avg.append(pk/numTrue)  \n",
    "    return map_avg\n",
    "\n",
    "def spectrum_laplacian_ksdist(A_true, A_pred, low=True):\n",
    "    sym_A_true = np.copy(A_true)\n",
    "    sym_A_pred = np.copy(A_pred)\n",
    "\n",
    "    i_triang = np.tril_indices(A_true.shape[0], 0)\n",
    "    if low:\n",
    "        sym_A_true.T[i_triang] = sym_A_true[i_triang]\n",
    "        sym_A_pred.T[i_triang] = sym_A_pred[i_triang]\n",
    "    else:\n",
    "        sym_A_true[i_triang] = sym_A_true.T[i_triang]\n",
    "        sym_A_pred[i_triang] = sym_A_pred.T[i_triang]\n",
    "    L_true = scipy.sparse.csgraph.laplacian(sym_A_true)\n",
    "    L_pred = scipy.sparse.csgraph.laplacian(sym_A_pred)\n",
    "\n",
    "    eigen_true = np.linalg.eig(L_true)[0]\n",
    "    eigen_pred = np.linalg.eig(L_pred)[0]\n",
    "    \n",
    "    return [ss.ks_2samp(eigen_true, eigen_pred)[0]]\n",
    "\n",
    "def det_diff(A_true, A_pred):\n",
    "    diff = A_true - A_pred\n",
    "    return [np.linalg.det(diff)]\n",
    "\n",
    "def shuffle_rank(d):\n",
    "    shuffled = np.array([np.arange(d) for i in range(d)])\n",
    "    for row in range(d):\n",
    "        np.random.shuffle(shuffled[row])\n",
    "    return shuffled\n",
    "\n",
    "def shuffle_matrix(gt):\n",
    "    shuffled = np.copy(gt)\n",
    "    for row in range(gt.shape[0]):\n",
    "        shuffled[row] = np.random.permutation(shuffled[row])\n",
    "    return shuffled\n",
    "\n"
   ]
  },
  {
   "cell_type": "code",
   "execution_count": 14,
   "metadata": {},
   "outputs": [
    {
     "name": "stdout",
     "output_type": "stream",
     "text": [
      "\n",
      " memetracker_2009-01\n",
      "HkEM\n"
     ]
    },
    {
     "name": "stderr",
     "output_type": "stream",
     "text": [
      "/usr/local/lib/python3.6/dist-packages/ipykernel_launcher.py:104: RuntimeWarning: underflow encountered in double_scalars\n"
     ]
    },
    {
     "name": "stdout",
     "output_type": "stream",
     "text": [
      "ADM4\n",
      "SG\n",
      "Cumulant\n",
      "Granger\n",
      "\n",
      " CollegeMsg\n",
      "HkEM\n"
     ]
    },
    {
     "name": "stderr",
     "output_type": "stream",
     "text": [
      "/usr/local/lib/python3.6/dist-packages/ipykernel_launcher.py:104: RuntimeWarning: underflow encountered in double_scalars\n"
     ]
    },
    {
     "name": "stdout",
     "output_type": "stream",
     "text": [
      "ADM4\n",
      "SG\n",
      "Cumulant\n",
      "Granger\n",
      "\n",
      " sx-askubuntu\n",
      "HkEM\n"
     ]
    },
    {
     "name": "stderr",
     "output_type": "stream",
     "text": [
      "/usr/local/lib/python3.6/dist-packages/ipykernel_launcher.py:104: RuntimeWarning: underflow encountered in double_scalars\n"
     ]
    },
    {
     "name": "stdout",
     "output_type": "stream",
     "text": [
      "ADM4\n",
      "SG\n",
      "Cumulant\n",
      "Granger\n",
      "\n",
      " sx-mathoverflow\n",
      "HkEM\n",
      "ADM4\n",
      "SG\n",
      "Cumulant\n",
      "Granger\n",
      "\n",
      " sx-superuser\n",
      "HkEM\n"
     ]
    },
    {
     "name": "stderr",
     "output_type": "stream",
     "text": [
      "/usr/local/lib/python3.6/dist-packages/ipykernel_launcher.py:104: RuntimeWarning: underflow encountered in double_scalars\n"
     ]
    },
    {
     "name": "stdout",
     "output_type": "stream",
     "text": [
      "ADM4\n",
      "SG\n",
      "Cumulant\n",
      "Granger\n",
      "\n",
      " email-Eu-core-temporal\n",
      "HkEM\n"
     ]
    },
    {
     "name": "stderr",
     "output_type": "stream",
     "text": [
      "/usr/local/lib/python3.6/dist-packages/ipykernel_launcher.py:104: RuntimeWarning: underflow encountered in double_scalars\n"
     ]
    },
    {
     "name": "stdout",
     "output_type": "stream",
     "text": [
      "ADM4\n",
      "SG\n",
      "Cumulant\n",
      "Granger\n",
      "\n",
      " wiki-talk-temporal\n",
      "HkEM\n"
     ]
    },
    {
     "name": "stderr",
     "output_type": "stream",
     "text": [
      "/usr/local/lib/python3.6/dist-packages/ipykernel_launcher.py:104: RuntimeWarning: underflow encountered in double_scalars\n"
     ]
    },
    {
     "name": "stdout",
     "output_type": "stream",
     "text": [
      "ADM4\n",
      "SG\n",
      "Cumulant\n",
      "Granger\n",
      "\n",
      " chalearn\n",
      "HkEM\n"
     ]
    },
    {
     "ename": "FloatingPointError",
     "evalue": "invalid value encountered in long_scalars",
     "output_type": "error",
     "traceback": [
      "\u001b[0;31m---------------------------------------------------------------------------\u001b[0m",
      "\u001b[0;31mFloatingPointError\u001b[0m                        Traceback (most recent call last)",
      "\u001b[0;32m<ipython-input-14-d4866adc67c4>\u001b[0m in \u001b[0;36m<module>\u001b[0;34m\u001b[0m\n\u001b[1;32m     60\u001b[0m                 \u001b[0mp_values\u001b[0m \u001b[0;34m=\u001b[0m \u001b[0mrankcorr\u001b[0m\u001b[0;34m(\u001b[0m\u001b[0mgroundTruth\u001b[0m\u001b[0;34m,\u001b[0m \u001b[0mmodelAPred\u001b[0m\u001b[0;34m,\u001b[0m \u001b[0mpvalues\u001b[0m \u001b[0;34m=\u001b[0m \u001b[0;32mTrue\u001b[0m\u001b[0;34m)\u001b[0m\u001b[0;34m\u001b[0m\u001b[0;34m\u001b[0m\u001b[0m\n\u001b[1;32m     61\u001b[0m             \u001b[0;32melse\u001b[0m\u001b[0;34m:\u001b[0m\u001b[0;34m\u001b[0m\u001b[0;34m\u001b[0m\u001b[0m\n\u001b[0;32m---> 62\u001b[0;31m                 \u001b[0mp_values\u001b[0m \u001b[0;34m=\u001b[0m \u001b[0mcalc_pvalues\u001b[0m\u001b[0;34m(\u001b[0m\u001b[0mmetric\u001b[0m\u001b[0;34m,\u001b[0m \u001b[0mmodelAPred\u001b[0m\u001b[0;34m,\u001b[0m \u001b[0mgroundTruth\u001b[0m\u001b[0;34m,\u001b[0m \u001b[0mprecisionK\u001b[0m \u001b[0;34m=\u001b[0m \u001b[0mprecisionK\u001b[0m\u001b[0;34m,\u001b[0m \u001b[0mn\u001b[0m\u001b[0;34m=\u001b[0m\u001b[0;36m200\u001b[0m\u001b[0;34m)\u001b[0m\u001b[0;34m\u001b[0m\u001b[0;34m\u001b[0m\u001b[0m\n\u001b[0m\u001b[1;32m     63\u001b[0m \u001b[0;34m\u001b[0m\u001b[0m\n\u001b[1;32m     64\u001b[0m             \u001b[0;32mfor\u001b[0m \u001b[0mp_value\u001b[0m \u001b[0;32min\u001b[0m \u001b[0mp_values\u001b[0m\u001b[0;34m:\u001b[0m\u001b[0;34m\u001b[0m\u001b[0;34m\u001b[0m\u001b[0m\n",
      "\u001b[0;32m<ipython-input-14-d4866adc67c4>\u001b[0m in \u001b[0;36mcalc_pvalues\u001b[0;34m(metric, modelAPred, groundTruth, precisionK, n)\u001b[0m\n\u001b[1;32m      3\u001b[0m         \u001b[0morig_values\u001b[0m \u001b[0;34m=\u001b[0m \u001b[0mnp\u001b[0m\u001b[0;34m.\u001b[0m\u001b[0marray\u001b[0m\u001b[0;34m(\u001b[0m\u001b[0mmetric\u001b[0m\u001b[0;34m(\u001b[0m\u001b[0mgroundTruth\u001b[0m\u001b[0;34m,\u001b[0m \u001b[0mmodelAPred\u001b[0m\u001b[0;34m,\u001b[0m \u001b[0mk\u001b[0m\u001b[0;34m=\u001b[0m\u001b[0mprecisionK\u001b[0m\u001b[0;34m)\u001b[0m\u001b[0;34m)\u001b[0m\u001b[0;34m\u001b[0m\u001b[0;34m\u001b[0m\u001b[0m\n\u001b[1;32m      4\u001b[0m     \u001b[0;32melse\u001b[0m\u001b[0;34m:\u001b[0m\u001b[0;34m\u001b[0m\u001b[0;34m\u001b[0m\u001b[0m\n\u001b[0;32m----> 5\u001b[0;31m         \u001b[0morig_values\u001b[0m \u001b[0;34m=\u001b[0m \u001b[0mnp\u001b[0m\u001b[0;34m.\u001b[0m\u001b[0marray\u001b[0m\u001b[0;34m(\u001b[0m\u001b[0mmetric\u001b[0m\u001b[0;34m(\u001b[0m\u001b[0mgroundTruth\u001b[0m\u001b[0;34m,\u001b[0m \u001b[0mmodelAPred\u001b[0m\u001b[0;34m)\u001b[0m\u001b[0;34m)\u001b[0m\u001b[0;34m\u001b[0m\u001b[0;34m\u001b[0m\u001b[0m\n\u001b[0m\u001b[1;32m      6\u001b[0m \u001b[0;34m\u001b[0m\u001b[0m\n\u001b[1;32m      7\u001b[0m     \u001b[0mcnt_pvalue\u001b[0m \u001b[0;34m=\u001b[0m \u001b[0mnp\u001b[0m\u001b[0;34m.\u001b[0m\u001b[0mzeros\u001b[0m\u001b[0;34m(\u001b[0m\u001b[0morig_values\u001b[0m\u001b[0;34m.\u001b[0m\u001b[0mshape\u001b[0m\u001b[0;34m)\u001b[0m\u001b[0;34m\u001b[0m\u001b[0;34m\u001b[0m\u001b[0m\n",
      "\u001b[0;32m<ipython-input-11-8242c9ac1c06>\u001b[0m in \u001b[0;36mapbin\u001b[0;34m(A_true, A_pred)\u001b[0m\n\u001b[1;32m    120\u001b[0m                 \u001b[0mnum_correct\u001b[0m \u001b[0;34m+=\u001b[0m \u001b[0;36m1\u001b[0m\u001b[0;34m\u001b[0m\u001b[0;34m\u001b[0m\u001b[0m\n\u001b[1;32m    121\u001b[0m                 \u001b[0map\u001b[0m \u001b[0;34m+=\u001b[0m \u001b[0mnum_correct\u001b[0m\u001b[0;34m/\u001b[0m\u001b[0mk\u001b[0m\u001b[0;34m\u001b[0m\u001b[0;34m\u001b[0m\u001b[0m\n\u001b[0;32m--> 122\u001b[0;31m         \u001b[0mmap_avg\u001b[0m\u001b[0;34m.\u001b[0m\u001b[0mappend\u001b[0m\u001b[0;34m(\u001b[0m\u001b[0map\u001b[0m\u001b[0;34m/\u001b[0m\u001b[0mnp\u001b[0m\u001b[0;34m.\u001b[0m\u001b[0msum\u001b[0m\u001b[0;34m(\u001b[0m\u001b[0mbinGT\u001b[0m\u001b[0;34m[\u001b[0m\u001b[0mi\u001b[0m\u001b[0;34m]\u001b[0m\u001b[0;34m)\u001b[0m\u001b[0;34m)\u001b[0m\u001b[0;34m\u001b[0m\u001b[0;34m\u001b[0m\u001b[0m\n\u001b[0m\u001b[1;32m    123\u001b[0m     \u001b[0;32mreturn\u001b[0m \u001b[0mmap_avg\u001b[0m\u001b[0;34m\u001b[0m\u001b[0;34m\u001b[0m\u001b[0m\n\u001b[1;32m    124\u001b[0m \u001b[0;34m\u001b[0m\u001b[0m\n",
      "\u001b[0;31mFloatingPointError\u001b[0m: invalid value encountered in long_scalars"
     ]
    }
   ],
   "source": [
    "def calc_pvalues(metric, modelAPred, groundTruth, precisionK=None, n=1000):\n",
    "    if metric == precision:\n",
    "        orig_values = np.array(metric(groundTruth, modelAPred, k=precisionK))\n",
    "    else:\n",
    "        orig_values = np.array(metric(groundTruth, modelAPred))\n",
    "    \n",
    "    cnt_pvalue = np.zeros(orig_values.shape)\n",
    "    for i in range(n):\n",
    "        shuffled = shuffle_matrix(modelAPred)\n",
    "        if metric == precision:\n",
    "            shuf_values = np.array(metric(groundTruth, shuffle_matrix(modelAPred), k=precisionK))\n",
    "        else:\n",
    "            shuf_values = np.array(metric(groundTruth, shuffle_matrix(modelAPred)))\n",
    "        if metric == rel_err or metric == nrmse:\n",
    "            cnt_pvalue += (shuf_values <= orig_values)\n",
    "        else:\n",
    "            cnt_pvalue += (shuf_values >= orig_values)\n",
    "    return cnt_pvalue/n\n",
    "\n",
    "\n",
    "file_list = [\"chalearn\", \"memetracker_2009-01\",\"CollegeMsg\",\"sx-askubuntu\", \"sx-mathoverflow\", \"sx-superuser\", \"email-Eu-core-temporal\", \"wiki-talk-temporal\"]\n",
    "datapath = {}\n",
    "for file in file_list:\n",
    "    if file == \"chalearn\":\n",
    "        datapath[file] = (\"../data/\"+file+\"/\"+file+\"_ticks.dat\",\"../data/\"+file+\"/\"+file+\"_groundtruth.npy\")\n",
    "    elif file == \"memetracker_2009-01\":\n",
    "        datapath[file] = (\"../../../Desktop/datasets/\"+file+\"_ticks_topmonth.dat\",\"../../../Desktop/datasets/\"+file+\"_groundtruth_topmonth.npy\")\n",
    "    else:\n",
    "        datapath[file] = (\"../data/\"+file+\"/\"+file+\"_ticks_topmonth.dat\",\"../data/\"+file+\"/\"+file+\"_groundtruth_topmonth.npy\")\n",
    "\n",
    "models = [\"HkEM\", \"ADM4\", \"SG\", \"Cumulant\", \"Granger\"]\n",
    "\n",
    "metrics = [rankcorr, precision, rel_err, ndcg_bin, ndcg, roc_auc, nrmse, apbin, apk, spectrum_laplacian_ksdist]\n",
    "metric_names ={rankcorr: \"RankCorr\", precision: \"Precision\", rel_err: \"RelErr\", \\\n",
    "               ndcg_bin: \"NDCGbin\", ndcg: \"NDCG\", roc_auc: \"ROCAUC\", \\\n",
    "               nrmse: \"NRMSE\", apbin: \"APbin\", apk: \"APn\", spectrum_laplacian_ksdist :\"Laplacian_Spec\", det_diff:\"DetDiff\"}\n",
    "\n",
    "d = 0\n",
    "entries = []\n",
    "for file in file_list:\n",
    "    print(\"\\n\"+ file)\n",
    "    \n",
    "    timestamps, groundTruth = read_timestamps_groundtruth(datapath[file][0],datapath[file][1])\n",
    "\n",
    "    if len(groundTruth) == 100:\n",
    "        precisionK = 10\n",
    "    else:\n",
    "        precisionK = 3\n",
    "    md = 0\n",
    "    for model in models:\n",
    "        print(model)\n",
    "        filepath = \"../framework/results/\"+file+\"/\"+model+\"/\"\n",
    "        modelAPred = read_adjacency (filepath)\n",
    "        baseline = read_baselines(filepath)\n",
    "        \n",
    "        mt = 0\n",
    "        for metric in metrics:\n",
    "            #print(metric_names[metric])\n",
    "            if metric == rankcorr:\n",
    "                p_values = rankcorr(groundTruth, modelAPred, pvalues = True)\n",
    "            else:\n",
    "                p_values = calc_pvalues(metric, modelAPred, groundTruth, precisionK = precisionK, n=200)\n",
    "            \n",
    "            for p_value in p_values:\n",
    "                entries.append ([d,md,mt,p_value])\n",
    "            mt += 1\n",
    "        md += 1\n",
    "    d += 1\n",
    "    "
   ]
  },
  {
   "cell_type": "code",
   "execution_count": 8,
   "metadata": {
    "scrolled": true
   },
   "outputs": [
    {
     "data": {
      "image/png": "[encoded data removed]",
      "text/plain": [
       "<Figure size 936x360 with 2 Axes>"
      ]
     },
     "metadata": {
      "needs_background": "light"
     },
     "output_type": "display_data"
    },
    {
     "name": "stdout",
     "output_type": "stream",
     "text": [
      "Mean: 0.3037941160675116 , Median: 0.20378727527031687 , % under 5: 0.25488372093023254\n"
     ]
    },
    {
     "data": {
      "image/png": "[encoded data removed]",
      "text/plain": [
       "<Figure size 936x360 with 2 Axes>"
      ]
     },
     "metadata": {
      "needs_background": "light"
     },
     "output_type": "display_data"
    },
    {
     "name": "stdout",
     "output_type": "stream",
     "text": [
      "Mean: 0.493792275862069 , Median: 0.4054 , % under 5: 0.12459770114942528\n"
     ]
    },
    {
     "data": {
      "image/png": "[encoded data removed]",
      "text/plain": [
       "<Figure size 936x360 with 2 Axes>"
      ]
     },
     "metadata": {
      "needs_background": "light"
     },
     "output_type": "display_data"
    },
    {
     "name": "stdout",
     "output_type": "stream",
     "text": [
      "Mean: 0.3113825287356322 , Median: 0.1838 , % under 5: 0.29379310344827586\n"
     ]
    },
    {
     "data": {
      "image/png": "[encoded data removed]",
      "text/plain": [
       "<Figure size 936x360 with 2 Axes>"
      ]
     },
     "metadata": {
      "needs_background": "light"
     },
     "output_type": "display_data"
    },
    {
     "name": "stdout",
     "output_type": "stream",
     "text": [
      "Mean: 0.2224714285714286 , Median: 0.0973 , % under 5: 0.37894248608534326\n"
     ]
    },
    {
     "data": {
      "image/png": "[encoded data removed]",
      "text/plain": [
       "<Figure size 936x360 with 2 Axes>"
      ]
     },
     "metadata": {
      "needs_background": "light"
     },
     "output_type": "display_data"
    },
    {
     "name": "stdout",
     "output_type": "stream",
     "text": [
      "Mean: 0.19240974025974028 , Median: 0.0322 , % under 5: 0.5950834879406308\n"
     ]
    },
    {
     "data": {
      "image/png": "[encoded data removed]",
      "text/plain": [
       "<Figure size 936x360 with 2 Axes>"
      ]
     },
     "metadata": {
      "needs_background": "light"
     },
     "output_type": "display_data"
    },
    {
     "name": "stdout",
     "output_type": "stream",
     "text": [
      "Mean: 0.2959672289156627 , Median: 0.1654 , % under 5: 0.3031325301204819\n"
     ]
    },
    {
     "data": {
      "image/png": "[encoded data removed]",
      "text/plain": [
       "<Figure size 936x360 with 2 Axes>"
      ]
     },
     "metadata": {
      "needs_background": "light"
     },
     "output_type": "display_data"
    },
    {
     "name": "stdout",
     "output_type": "stream",
     "text": [
      "Mean: 0.19561686746987952 , Median: 0.0352 , % under 5: 0.5730120481927711\n"
     ]
    },
    {
     "data": {
      "image/png": "[encoded data removed]",
      "text/plain": [
       "<Figure size 936x360 with 2 Axes>"
      ]
     },
     "metadata": {
      "needs_background": "light"
     },
     "output_type": "display_data"
    },
    {
     "name": "stdout",
     "output_type": "stream",
     "text": [
      "Mean: 0.24791084337349395 , Median: 0.0958 , % under 5: 0.37542168674698795\n"
     ]
    },
    {
     "data": {
      "image/png": "[encoded data removed]",
      "text/plain": [
       "<Figure size 936x360 with 2 Axes>"
      ]
     },
     "metadata": {
      "needs_background": "light"
     },
     "output_type": "display_data"
    },
    {
     "name": "stdout",
     "output_type": "stream",
     "text": [
      "Mean: 0.22814766265060238 , Median: 0.0392 , % under 5: 0.5643373493975904\n"
     ]
    },
    {
     "data": {
      "image/png": "[encoded data removed]",
      "text/plain": [
       "<Figure size 936x360 with 2 Axes>"
      ]
     },
     "metadata": {
      "needs_background": "light"
     },
     "output_type": "display_data"
    },
    {
     "name": "stdout",
     "output_type": "stream",
     "text": [
      "Mean: 0.3175371428571429 , Median: 0.0006 , % under 5: 0.6\n"
     ]
    }
   ],
   "source": [
    "p_values = {}\n",
    "for i in range(entries_orig.shape[0]):\n",
    "    metric = int(entries_orig[i][2])\n",
    "    pvalue = entries_orig[i][-1]\n",
    "    key = metric_names[metrics[metric]]\n",
    "    if not(key in p_values):\n",
    "        p_values[key] = []\n",
    "    p_values[key].append(pvalue)\n",
    "    \n",
    "    \n",
    "for metric in p_values:\n",
    "    r = np.array(p_values[metric])\n",
    "    f, ax = plt.subplots(1, 2, figsize = (13,5))\n",
    "    p1 = sns.kdeplot(r, shade=True, color=\"r\", kernel='cos', gridsize = 200, clip=(0,1.00001), ax=ax[0])\n",
    "    p1.axvline(x=0.05,c='k',linestyle='--')\n",
    "    p1.set_xlim(0.,1.0)\n",
    "    p1.set_ylim(0, 10)\n",
    "    p1.set_title(metric)\n",
    "    \n",
    "    ax[1].hist(r,bins=np.arange(0,1.0001,0.01), rwidth = 1)\n",
    "    plt.axvline(x=0.05,c='k',linestyle='--')\n",
    "    plt.ylim(0,590)\n",
    "    plt.title(metric)\n",
    "    plt.show()\n",
    "    \n",
    "    print(\"Mean:\",np.mean(r),\", Median:\",np.median(r), \", % under 5:\",len(r[r<0.05])/len(r))\n"
   ]
  },
  {
   "cell_type": "code",
   "execution_count": 6,
   "metadata": {},
   "outputs": [
    {
     "name": "stdout",
     "output_type": "stream",
     "text": [
      "[[0.00000000e+00 0.00000000e+00 0.00000000e+00 1.83635244e-02]\n",
      " [0.00000000e+00 0.00000000e+00 0.00000000e+00 3.58760516e-01]\n",
      " [0.00000000e+00 0.00000000e+00 0.00000000e+00 9.60283861e-02]\n",
      " ...\n",
      " [7.00000000e+00 0.00000000e+00 4.00000000e+00 1.23800000e-01]\n",
      " [7.00000000e+00 0.00000000e+00 4.00000000e+00 2.00000000e-04]\n",
      " [7.00000000e+00 0.00000000e+00 4.00000000e+00 1.49800000e-01]]\n",
      "[[0. 0. 0. 1.]\n",
      " [0. 0. 0. 0.]\n",
      " [0. 0. 0. 0.]\n",
      " ...\n",
      " [7. 0. 4. 0.]\n",
      " [7. 0. 4. 1.]\n",
      " [7. 0. 4. 0.]]\n"
     ]
    }
   ],
   "source": [
    "entries = np.array(entries)\n",
    "entries_orig = np.copy(entries)\n",
    "entries.shape\n",
    "entries[:,3] = entries[:,3]<0.05\n",
    "print(entries_orig)\n",
    "print(entries)"
   ]
  },
  {
   "cell_type": "code",
   "execution_count": 9,
   "metadata": {},
   "outputs": [
    {
     "name": "stdout",
     "output_type": "stream",
     "text": [
      "dataset_1.0 CollegeMsg -1.9254310826980783\n",
      "dataset_2.0 sx-askubuntu -0.9173171502581338\n",
      "dataset_3.0 sx-mathoverflow -1.0087474222402444\n",
      "dataset_4.0 sx-superuser -1.1748608557287856\n",
      "dataset_5.0 email-Eu-core-temporal -1.2069900006892134\n",
      "dataset_6.0 wiki-talk-temporal -0.17496039040336311\n",
      "dataset_7.0 ADM4 -2.570944879210744\n",
      "model_1.0 SG -1.4560388979069068\n",
      "model_2.0 Cumulant -0.7558353749725086\n",
      "model_3.0 Granger -0.5206155995568097\n",
      "model_4.0 Precision -0.9485316165968122\n",
      "metric_1.0 RelErr -0.970932220453862\n",
      "metric_2.0 NDCGbin 0.2135587384616837\n",
      "metric_3.0 NDCG 0.6437102437727504\n",
      "metric_4.0 ROCAUC 1.6550988457553364\n",
      "metric_5.0 NRMSE 0.2251098043549298\n",
      "metric_6.0 APbin 1.517764926115271\n",
      "metric_7.0 APn 0.5938198260012154\n",
      "metric_8.0 Laplacian_Spec 1.47716277146432\n"
     ]
    },
    {
     "name": "stderr",
     "output_type": "stream",
     "text": [
      "/home/guilhermeborges/.local/lib/python3.6/site-packages/sklearn/linear_model/logistic.py:433: FutureWarning: Default solver will be changed to 'lbfgs' in 0.22. Specify a solver to silence this warning.\n",
      "  FutureWarning)\n"
     ]
    },
    {
     "ename": "IndexError",
     "evalue": "list index out of range",
     "output_type": "error",
     "traceback": [
      "\u001b[0;31m---------------------------------------------------------------------------\u001b[0m",
      "\u001b[0;31mIndexError\u001b[0m                                Traceback (most recent call last)",
      "\u001b[0;32m<ipython-input-9-ecbd1ddd0563>\u001b[0m in \u001b[0;36m<module>\u001b[0;34m\u001b[0m\n\u001b[1;32m     18\u001b[0m         \u001b[0mprint\u001b[0m\u001b[0;34m(\u001b[0m\u001b[0mc\u001b[0m\u001b[0;34m,\u001b[0m \u001b[0mmodels\u001b[0m\u001b[0;34m[\u001b[0m\u001b[0mi\u001b[0m\u001b[0;34m+\u001b[0m\u001b[0;36m1\u001b[0m\u001b[0;34m-\u001b[0m\u001b[0;36m6\u001b[0m\u001b[0;34m]\u001b[0m\u001b[0;34m,\u001b[0m \u001b[0mclf\u001b[0m\u001b[0;34m.\u001b[0m\u001b[0mcoef_\u001b[0m\u001b[0;34m[\u001b[0m\u001b[0;36m0\u001b[0m\u001b[0;34m]\u001b[0m\u001b[0;34m[\u001b[0m\u001b[0mi\u001b[0m\u001b[0;34m]\u001b[0m\u001b[0;34m)\u001b[0m\u001b[0;34m\u001b[0m\u001b[0;34m\u001b[0m\u001b[0m\n\u001b[1;32m     19\u001b[0m     \u001b[0;32melse\u001b[0m\u001b[0;34m:\u001b[0m\u001b[0;34m\u001b[0m\u001b[0;34m\u001b[0m\u001b[0m\n\u001b[0;32m---> 20\u001b[0;31m         \u001b[0mprint\u001b[0m\u001b[0;34m(\u001b[0m\u001b[0mc\u001b[0m\u001b[0;34m,\u001b[0m \u001b[0mmetric_names\u001b[0m\u001b[0;34m[\u001b[0m\u001b[0mmetrics\u001b[0m\u001b[0;34m[\u001b[0m\u001b[0mi\u001b[0m\u001b[0;34m+\u001b[0m\u001b[0;36m1\u001b[0m\u001b[0;34m-\u001b[0m\u001b[0;36m10\u001b[0m\u001b[0;34m]\u001b[0m\u001b[0;34m]\u001b[0m\u001b[0;34m,\u001b[0m \u001b[0mclf\u001b[0m\u001b[0;34m.\u001b[0m\u001b[0mcoef_\u001b[0m\u001b[0;34m[\u001b[0m\u001b[0;36m0\u001b[0m\u001b[0;34m]\u001b[0m\u001b[0;34m[\u001b[0m\u001b[0mi\u001b[0m\u001b[0;34m]\u001b[0m\u001b[0;34m)\u001b[0m\u001b[0;34m\u001b[0m\u001b[0;34m\u001b[0m\u001b[0m\n\u001b[0m\u001b[1;32m     21\u001b[0m     \u001b[0mi\u001b[0m\u001b[0;34m+=\u001b[0m\u001b[0;36m1\u001b[0m\u001b[0;34m\u001b[0m\u001b[0;34m\u001b[0m\u001b[0m\n\u001b[1;32m     22\u001b[0m \u001b[0;34m\u001b[0m\u001b[0m\n",
      "\u001b[0;31mIndexError\u001b[0m: list index out of range"
     ]
    }
   ],
   "source": [
    "x = pd.DataFrame(entries)\n",
    "x.columns = ['dataset','model','metric','pvalue']\n",
    "for c in x.columns:\n",
    "    x[c] = x[c].astype('category')\n",
    "x = pd.get_dummies(x, drop_first = True)\n",
    "Y = x.iloc[:,-1]\n",
    "del x['pvalue_1.0']\n",
    "\n",
    "\n",
    "clf = LogisticRegression(random_state=0)\n",
    "clf.fit(x, Y)\n",
    "\n",
    "i = 0\n",
    "for c in x.columns:\n",
    "    if i>=0 and i<6:\n",
    "        print(c, file_list[i+1], clf.coef_[0][i])\n",
    "    elif i<10:\n",
    "        print(c, models[i+1-6], clf.coef_[0][i])\n",
    "    else:\n",
    "        print(c, metric_names[metrics[i+1-10]], clf.coef_[0][i])\n",
    "    i+=1\n",
    "\n",
    "print(clf.intercept_)"
   ]
  },
  {
   "cell_type": "code",
   "execution_count": 10,
   "metadata": {},
   "outputs": [
    {
     "name": "stdout",
     "output_type": "stream",
     "text": [
      "[<function rankcorr at 0x7f3235efea60>, <function precision at 0x7f3235efeae8>, <function rel_err at 0x7f3235efe9d8>, <function ndcg_bin at 0x7f3235efebf8>, <function ndcg at 0x7f3235efec80>, <function roc_auc at 0x7f3235efed08>, <function nrmse at 0x7f3235efed90>, <function apbin at 0x7f3235efee18>, <function apk at 0x7f3235efeea0>, <function spectrum_laplacian_ksdist at 0x7f3235efef28>]\n",
      "dataset_0.0 memetracker_2009-01 0.9845165908668387\n",
      "dataset_1.0 CollegeMsg -0.9818829476691777\n",
      "dataset_2.0 sx-askubuntu 0.02480475656744134\n",
      "dataset_3.0 sx-mathoverflow -0.06660073457830497\n",
      "dataset_4.0 sx-superuser -0.23256029662006683\n",
      "dataset_5.0 email-Eu-core-temporal -0.26230011186524566\n",
      "dataset_6.0 wiki-talk-temporal 0.7710931372017992\n",
      "dataset_7.0 HkEM -1.646582863466421\n",
      "model_0.0 ADM4 0.4610604591180155\n",
      "model_1.0 SG -1.0044920949154608\n",
      "model_2.0 Cumulant -0.3028725079183758\n",
      "model_3.0 Granger -0.06723847309815528\n",
      "model_4.0 RankCorr -0.4959698527539831\n",
      "metric_0.0 Precision -0.8372576200900363\n",
      "metric_1.0 RelErr -1.791249560638372\n",
      "metric_2.0 NDCGbin -0.6063938766557804\n",
      "metric_3.0 NDCG -0.17570543867315733\n",
      "metric_4.0 ROCAUC 0.8373740970968518\n",
      "metric_5.0 NRMSE -0.595271187362368\n",
      "metric_6.0 APbin 0.6992715506484384\n",
      "metric_7.0 APn -0.22610735961569448\n",
      "metric_8.0 Laplacian_Spec 0.658600679336415\n"
     ]
    },
    {
     "name": "stderr",
     "output_type": "stream",
     "text": [
      "/home/guilhermeborges/.local/lib/python3.6/site-packages/sklearn/linear_model/logistic.py:433: FutureWarning: Default solver will be changed to 'lbfgs' in 0.22. Specify a solver to silence this warning.\n",
      "  FutureWarning)\n"
     ]
    },
    {
     "ename": "IndexError",
     "evalue": "list index out of range",
     "output_type": "error",
     "traceback": [
      "\u001b[0;31m---------------------------------------------------------------------------\u001b[0m",
      "\u001b[0;31mIndexError\u001b[0m                                Traceback (most recent call last)",
      "\u001b[0;32m<ipython-input-10-17f2fab721e6>\u001b[0m in \u001b[0;36m<module>\u001b[0;34m\u001b[0m\n\u001b[1;32m     19\u001b[0m         \u001b[0mprint\u001b[0m\u001b[0;34m(\u001b[0m\u001b[0mc\u001b[0m\u001b[0;34m,\u001b[0m \u001b[0mmodels\u001b[0m\u001b[0;34m[\u001b[0m\u001b[0mi\u001b[0m\u001b[0;34m-\u001b[0m\u001b[0;36m7\u001b[0m\u001b[0;34m]\u001b[0m\u001b[0;34m,\u001b[0m \u001b[0mclf\u001b[0m\u001b[0;34m.\u001b[0m\u001b[0mcoef_\u001b[0m\u001b[0;34m[\u001b[0m\u001b[0;36m0\u001b[0m\u001b[0;34m]\u001b[0m\u001b[0;34m[\u001b[0m\u001b[0mi\u001b[0m\u001b[0;34m]\u001b[0m\u001b[0;34m)\u001b[0m\u001b[0;34m\u001b[0m\u001b[0;34m\u001b[0m\u001b[0m\n\u001b[1;32m     20\u001b[0m     \u001b[0;32melse\u001b[0m\u001b[0;34m:\u001b[0m\u001b[0;34m\u001b[0m\u001b[0;34m\u001b[0m\u001b[0m\n\u001b[0;32m---> 21\u001b[0;31m         \u001b[0mprint\u001b[0m\u001b[0;34m(\u001b[0m\u001b[0mc\u001b[0m\u001b[0;34m,\u001b[0m \u001b[0mmetric_names\u001b[0m\u001b[0;34m[\u001b[0m\u001b[0mmetrics\u001b[0m\u001b[0;34m[\u001b[0m\u001b[0mi\u001b[0m\u001b[0;34m-\u001b[0m\u001b[0;36m12\u001b[0m\u001b[0;34m]\u001b[0m\u001b[0;34m]\u001b[0m\u001b[0;34m,\u001b[0m \u001b[0mclf\u001b[0m\u001b[0;34m.\u001b[0m\u001b[0mcoef_\u001b[0m\u001b[0;34m[\u001b[0m\u001b[0;36m0\u001b[0m\u001b[0;34m]\u001b[0m\u001b[0;34m[\u001b[0m\u001b[0mi\u001b[0m\u001b[0;34m]\u001b[0m\u001b[0;34m)\u001b[0m\u001b[0;34m\u001b[0m\u001b[0;34m\u001b[0m\u001b[0m\n\u001b[0m\u001b[1;32m     22\u001b[0m     \u001b[0mi\u001b[0m\u001b[0;34m+=\u001b[0m\u001b[0;36m1\u001b[0m\u001b[0;34m\u001b[0m\u001b[0;34m\u001b[0m\u001b[0m\n\u001b[1;32m     23\u001b[0m \u001b[0;34m\u001b[0m\u001b[0m\n",
      "\u001b[0;31mIndexError\u001b[0m: list index out of range"
     ]
    }
   ],
   "source": [
    "x = pd.DataFrame(entries)\n",
    "x.columns = ['dataset','model','metric','pvalue']\n",
    "for c in x.columns:\n",
    "    x[c] = x[c].astype('category')\n",
    "x = pd.get_dummies(x, drop_first = False)\n",
    "\n",
    "Y = x.iloc[:,-1]\n",
    "del x['pvalue_0.0'], x['pvalue_1.0']\n",
    "\n",
    "clf = LogisticRegression(random_state=0, fit_intercept=0)\n",
    "clf.fit(x, Y)\n",
    "\n",
    "print(metrics)\n",
    "i = 0\n",
    "for c in x.columns:\n",
    "    if i>=0 and i<7:\n",
    "        print(c, file_list[i], clf.coef_[0][i])\n",
    "    elif i<12:\n",
    "        print(c, models[i-7], clf.coef_[0][i])\n",
    "    else:\n",
    "        print(c, metric_names[metrics[i-12]], clf.coef_[0][i])\n",
    "    i+=1\n",
    "\n",
    "print(clf.intercept_)"
   ]
  },
  {
   "cell_type": "code",
   "execution_count": 28,
   "metadata": {},
   "outputs": [],
   "source": [
    "np.savetxt(\"entries_orig\",entries_orig)\n",
    "np.savetxt(\"entries\",entries)"
   ]
  },
  {
   "cell_type": "code",
   "execution_count": 29,
   "metadata": {},
   "outputs": [
    {
     "name": "stdout",
     "output_type": "stream",
     "text": [
      "sx-askubuntu              0\n",
      "sx-mathoverflow           0\n",
      "sx-superuser              0\n",
      "email-Eu-core-temporal    0\n",
      "wiki-talk-temporal        0\n",
      "memetracker_2009-01       0\n",
      "ADM4                      0\n",
      "SG                        0\n",
      "Cumulant                  0\n",
      "Granger                   0\n",
      "DetDiff                   1\n",
      "RankCorr                  0\n",
      "Precision                 0\n",
      "RelErr                    0\n",
      "NDCGbin                   0\n",
      "NDCG                      0\n",
      "ROCAUC                    0\n",
      "NRMSE                     0\n",
      "APbin                     0\n",
      "APn                       0\n",
      "p_value                   0\n",
      "Name: 1, dtype: uint8\n"
     ]
    }
   ],
   "source": [
    "x = pd.DataFrame(entries)\n",
    "x.columns = ['dataset','model','metric','pvalue']\n",
    "for c in x.columns:\n",
    "    x[c] = x[c].astype('category')\n",
    "x = pd.get_dummies(x, drop_first = True)\n",
    "Y = x.iloc[:,-1]\n",
    "\n",
    "i = 0\n",
    "for c in x.columns:\n",
    "    if i>=0 and i<6:\n",
    "        x.columns.values[i] = file_list[i+1]\n",
    "        #print(c, file_list[i+1], clf.coef_[0][i])\n",
    "    elif i<10:\n",
    "        x.columns.values[i] = models[i+1-6]\n",
    "        #print(c, models[i+1-6], clf.coef_[0][i])\n",
    "    elif i<len(x.columns)-1:\n",
    "        x.columns.values[i] = metric_names[metrics[i-9]]\n",
    "        #print(c, metric_names[metrics[i+1-10]], clf.coef_[0][i])\n",
    "    i+=1\n",
    "x.columns.values[i-1] = \"p_value\"\n",
    "print(x.iloc[1])\n",
    "#np.savetxt(\"entries_processed\",x)\n",
    "x.to_csv(\"entries_processed\", index=False)"
   ]
  },
  {
   "cell_type": "code",
   "execution_count": 35,
   "metadata": {},
   "outputs": [
    {
     "data": {
      "text/plain": [
       "array([[1.    , 0.    , 0.    , 0.    ],\n",
       "       [1.    , 0.    , 0.    , 0.    ],\n",
       "       [1.    , 0.    , 0.    , 0.    ],\n",
       "       [1.    , 0.    , 0.    , 0.    ],\n",
       "       [1.    , 0.    , 0.    , 0.    ],\n",
       "       [1.    , 0.    , 0.    , 0.    ],\n",
       "       [1.    , 0.    , 0.    , 0.    ],\n",
       "       [1.    , 0.    , 0.    , 0.    ],\n",
       "       [1.    , 0.    , 0.    , 0.    ],\n",
       "       [1.    , 0.    , 0.    , 0.    ],\n",
       "       [1.    , 0.    , 0.    , 0.    ],\n",
       "       [1.    , 0.    , 0.    , 0.    ],\n",
       "       [1.    , 0.    , 0.    , 0.    ],\n",
       "       [1.    , 0.    , 0.    , 0.    ],\n",
       "       [1.    , 0.    , 0.    , 0.    ],\n",
       "       [1.    , 0.    , 0.    , 0.    ],\n",
       "       [1.    , 0.    , 0.    , 0.    ],\n",
       "       [1.    , 0.    , 0.    , 0.    ],\n",
       "       [1.    , 0.    , 0.    , 0.    ],\n",
       "       [1.    , 0.    , 0.    , 0.    ],\n",
       "       [1.    , 0.    , 0.    , 0.    ],\n",
       "       [1.    , 0.    , 0.    , 0.    ],\n",
       "       [1.    , 0.    , 0.    , 0.    ],\n",
       "       [1.    , 0.    , 0.    , 0.    ],\n",
       "       [1.    , 0.    , 0.    , 0.    ],\n",
       "       [1.    , 0.    , 0.    , 0.    ],\n",
       "       [1.    , 0.    , 0.    , 0.    ],\n",
       "       [1.    , 0.    , 0.    , 0.    ],\n",
       "       [1.    , 1.    , 0.    , 0.9974],\n",
       "       [1.    , 1.    , 0.    , 0.9974],\n",
       "       [1.    , 1.    , 0.    , 0.9974],\n",
       "       [1.    , 1.    , 0.    , 0.9974],\n",
       "       [1.    , 1.    , 0.    , 0.9974],\n",
       "       [1.    , 1.    , 0.    , 0.9974],\n",
       "       [1.    , 1.    , 0.    , 0.9974],\n",
       "       [1.    , 1.    , 0.    , 0.9974],\n",
       "       [1.    , 1.    , 0.    , 0.9974],\n",
       "       [1.    , 1.    , 0.    , 0.9974],\n",
       "       [1.    , 1.    , 0.    , 0.9974],\n",
       "       [1.    , 1.    , 0.    , 0.9974],\n",
       "       [1.    , 1.    , 0.    , 0.9974],\n",
       "       [1.    , 1.    , 0.    , 0.9974],\n",
       "       [1.    , 1.    , 0.    , 0.9974],\n",
       "       [1.    , 1.    , 0.    , 0.9974],\n",
       "       [1.    , 1.    , 0.    , 0.9974],\n",
       "       [1.    , 1.    , 0.    , 0.9974],\n",
       "       [1.    , 1.    , 0.    , 0.9974],\n",
       "       [1.    , 1.    , 0.    , 0.9974],\n",
       "       [1.    , 1.    , 0.    , 0.9974],\n",
       "       [1.    , 1.    , 0.    , 0.9974],\n",
       "       [1.    , 1.    , 0.    , 0.9974],\n",
       "       [1.    , 1.    , 0.    , 0.9974],\n",
       "       [1.    , 1.    , 0.    , 0.9974],\n",
       "       [1.    , 1.    , 0.    , 0.9974],\n",
       "       [1.    , 1.    , 0.    , 0.9974],\n",
       "       [1.    , 1.    , 0.    , 0.9974],\n",
       "       [1.    , 2.    , 0.    , 0.2616],\n",
       "       [1.    , 2.    , 0.    , 0.2616],\n",
       "       [1.    , 2.    , 0.    , 0.2616],\n",
       "       [1.    , 2.    , 0.    , 0.2616],\n",
       "       [1.    , 2.    , 0.    , 0.2616],\n",
       "       [1.    , 2.    , 0.    , 0.2616],\n",
       "       [1.    , 2.    , 0.    , 0.2616],\n",
       "       [1.    , 2.    , 0.    , 0.2616],\n",
       "       [1.    , 2.    , 0.    , 0.2616],\n",
       "       [1.    , 2.    , 0.    , 0.2616],\n",
       "       [1.    , 2.    , 0.    , 0.2616],\n",
       "       [1.    , 2.    , 0.    , 0.2616],\n",
       "       [1.    , 2.    , 0.    , 0.2616],\n",
       "       [1.    , 2.    , 0.    , 0.2616],\n",
       "       [1.    , 2.    , 0.    , 0.2616],\n",
       "       [1.    , 2.    , 0.    , 0.2616],\n",
       "       [1.    , 2.    , 0.    , 0.2616],\n",
       "       [1.    , 2.    , 0.    , 0.2616],\n",
       "       [1.    , 2.    , 0.    , 0.2616],\n",
       "       [1.    , 2.    , 0.    , 0.2616],\n",
       "       [1.    , 2.    , 0.    , 0.2616],\n",
       "       [1.    , 2.    , 0.    , 0.2616],\n",
       "       [1.    , 2.    , 0.    , 0.2616],\n",
       "       [1.    , 2.    , 0.    , 0.2616],\n",
       "       [1.    , 2.    , 0.    , 0.2616],\n",
       "       [1.    , 2.    , 0.    , 0.2616],\n",
       "       [1.    , 2.    , 0.    , 0.2616],\n",
       "       [1.    , 2.    , 0.    , 0.2616],\n",
       "       [1.    , 3.    , 0.    , 0.5836],\n",
       "       [1.    , 3.    , 0.    , 0.5836],\n",
       "       [1.    , 3.    , 0.    , 0.5836],\n",
       "       [1.    , 3.    , 0.    , 0.5836],\n",
       "       [1.    , 3.    , 0.    , 0.5836],\n",
       "       [1.    , 3.    , 0.    , 0.5836],\n",
       "       [1.    , 3.    , 0.    , 0.5836],\n",
       "       [1.    , 3.    , 0.    , 0.5836],\n",
       "       [1.    , 3.    , 0.    , 0.5836],\n",
       "       [1.    , 3.    , 0.    , 0.5836],\n",
       "       [1.    , 3.    , 0.    , 0.5836],\n",
       "       [1.    , 3.    , 0.    , 0.5836],\n",
       "       [1.    , 3.    , 0.    , 0.5836],\n",
       "       [1.    , 3.    , 0.    , 0.5836],\n",
       "       [1.    , 3.    , 0.    , 0.5836],\n",
       "       [1.    , 3.    , 0.    , 0.5836],\n",
       "       [1.    , 3.    , 0.    , 0.5836],\n",
       "       [1.    , 3.    , 0.    , 0.5836],\n",
       "       [1.    , 3.    , 0.    , 0.5836],\n",
       "       [1.    , 3.    , 0.    , 0.5836],\n",
       "       [1.    , 3.    , 0.    , 0.5836],\n",
       "       [1.    , 3.    , 0.    , 0.5836],\n",
       "       [1.    , 3.    , 0.    , 0.5836],\n",
       "       [1.    , 3.    , 0.    , 0.5836],\n",
       "       [1.    , 3.    , 0.    , 0.5836],\n",
       "       [1.    , 3.    , 0.    , 0.5836],\n",
       "       [1.    , 3.    , 0.    , 0.5836],\n",
       "       [1.    , 3.    , 0.    , 0.5836],\n",
       "       [1.    , 4.    , 0.    , 0.3542],\n",
       "       [1.    , 4.    , 0.    , 0.3542],\n",
       "       [1.    , 4.    , 0.    , 0.3542],\n",
       "       [1.    , 4.    , 0.    , 0.3542],\n",
       "       [1.    , 4.    , 0.    , 0.3542],\n",
       "       [1.    , 4.    , 0.    , 0.3542],\n",
       "       [1.    , 4.    , 0.    , 0.3542],\n",
       "       [1.    , 4.    , 0.    , 0.3542],\n",
       "       [1.    , 4.    , 0.    , 0.3542],\n",
       "       [1.    , 4.    , 0.    , 0.3542],\n",
       "       [1.    , 4.    , 0.    , 0.3542],\n",
       "       [1.    , 4.    , 0.    , 0.3542],\n",
       "       [1.    , 4.    , 0.    , 0.3542],\n",
       "       [1.    , 4.    , 0.    , 0.3542],\n",
       "       [1.    , 4.    , 0.    , 0.3542],\n",
       "       [1.    , 4.    , 0.    , 0.3542],\n",
       "       [1.    , 4.    , 0.    , 0.3542],\n",
       "       [1.    , 4.    , 0.    , 0.3542],\n",
       "       [1.    , 4.    , 0.    , 0.3542],\n",
       "       [1.    , 4.    , 0.    , 0.3542],\n",
       "       [1.    , 4.    , 0.    , 0.3542],\n",
       "       [1.    , 4.    , 0.    , 0.3542],\n",
       "       [1.    , 4.    , 0.    , 0.3542],\n",
       "       [1.    , 4.    , 0.    , 0.3542],\n",
       "       [1.    , 4.    , 0.    , 0.3542],\n",
       "       [1.    , 4.    , 0.    , 0.3542],\n",
       "       [1.    , 4.    , 0.    , 0.3542],\n",
       "       [1.    , 4.    , 0.    , 0.3542],\n",
       "       [2.    , 0.    , 0.    , 0.    ],\n",
       "       [2.    , 0.    , 0.    , 0.    ],\n",
       "       [2.    , 0.    , 0.    , 0.    ],\n",
       "       [2.    , 0.    , 0.    , 0.    ],\n",
       "       [2.    , 0.    , 0.    , 0.    ],\n",
       "       [2.    , 0.    , 0.    , 0.    ],\n",
       "       [2.    , 0.    , 0.    , 0.    ],\n",
       "       [2.    , 0.    , 0.    , 0.    ],\n",
       "       [2.    , 0.    , 0.    , 0.    ],\n",
       "       [2.    , 0.    , 0.    , 0.    ],\n",
       "       [2.    , 0.    , 0.    , 0.    ],\n",
       "       [2.    , 0.    , 0.    , 0.    ],\n",
       "       [2.    , 0.    , 0.    , 0.    ],\n",
       "       [2.    , 0.    , 0.    , 0.    ],\n",
       "       [2.    , 0.    , 0.    , 0.    ],\n",
       "       [2.    , 0.    , 0.    , 0.    ],\n",
       "       [2.    , 0.    , 0.    , 0.    ],\n",
       "       [2.    , 0.    , 0.    , 0.    ],\n",
       "       [2.    , 0.    , 0.    , 0.    ],\n",
       "       [2.    , 0.    , 0.    , 0.    ],\n",
       "       [2.    , 0.    , 0.    , 0.    ],\n",
       "       [2.    , 0.    , 0.    , 0.    ],\n",
       "       [2.    , 0.    , 0.    , 0.    ],\n",
       "       [2.    , 0.    , 0.    , 0.    ],\n",
       "       [2.    , 0.    , 0.    , 0.    ],\n",
       "       [2.    , 0.    , 0.    , 0.    ],\n",
       "       [2.    , 0.    , 0.    , 0.    ],\n",
       "       [2.    , 0.    , 0.    , 0.    ],\n",
       "       [2.    , 0.    , 0.    , 0.    ],\n",
       "       [2.    , 1.    , 0.    , 0.9994],\n",
       "       [2.    , 1.    , 0.    , 0.9994],\n",
       "       [2.    , 1.    , 0.    , 0.9994],\n",
       "       [2.    , 1.    , 0.    , 0.9994],\n",
       "       [2.    , 1.    , 0.    , 0.9994],\n",
       "       [2.    , 1.    , 0.    , 0.9994],\n",
       "       [2.    , 1.    , 0.    , 0.9994],\n",
       "       [2.    , 1.    , 0.    , 0.9994],\n",
       "       [2.    , 1.    , 0.    , 0.9994],\n",
       "       [2.    , 1.    , 0.    , 0.9994],\n",
       "       [2.    , 1.    , 0.    , 0.9994],\n",
       "       [2.    , 1.    , 0.    , 0.9994],\n",
       "       [2.    , 1.    , 0.    , 0.9994],\n",
       "       [2.    , 1.    , 0.    , 0.9994],\n",
       "       [2.    , 1.    , 0.    , 0.9994],\n",
       "       [2.    , 1.    , 0.    , 0.9994],\n",
       "       [2.    , 1.    , 0.    , 0.9994],\n",
       "       [2.    , 1.    , 0.    , 0.9994],\n",
       "       [2.    , 1.    , 0.    , 0.9994],\n",
       "       [2.    , 1.    , 0.    , 0.9994],\n",
       "       [2.    , 1.    , 0.    , 0.9994],\n",
       "       [2.    , 1.    , 0.    , 0.9994],\n",
       "       [2.    , 1.    , 0.    , 0.9994],\n",
       "       [2.    , 1.    , 0.    , 0.9994],\n",
       "       [2.    , 1.    , 0.    , 0.9994],\n",
       "       [2.    , 1.    , 0.    , 0.9994],\n",
       "       [2.    , 1.    , 0.    , 0.9994],\n",
       "       [2.    , 1.    , 0.    , 0.9994],\n",
       "       [2.    , 1.    , 0.    , 0.9994],\n",
       "       [2.    , 2.    , 0.    , 0.0466],\n",
       "       [2.    , 2.    , 0.    , 0.0466]])"
      ]
     },
     "execution_count": 35,
     "metadata": {},
     "output_type": "execute_result"
    }
   ],
   "source": [
    "entries_orig[entries_orig[:,2]==0][500:700]"
   ]
  },
  {
   "cell_type": "code",
   "execution_count": null,
   "metadata": {},
   "outputs": [],
   "source": []
  }
 ],
 "metadata": {
  "kernelspec": {
   "display_name": "Python 3",
   "language": "python",
   "name": "python3"
  },
  "language_info": {
   "codemirror_mode": {
    "name": "ipython",
    "version": 3
   },
   "file_extension": ".py",
   "mimetype": "text/x-python",
   "name": "python",
   "nbconvert_exporter": "python",
   "pygments_lexer": "ipython3",
   "version": "3.6.7"
  }
 },
 "nbformat": 4,
 "nbformat_minor": 2
}
