{
 "cells": [
  {
   "cell_type": "code",
   "execution_count": 4,
   "metadata": {},
   "outputs": [],
   "source": [
    "import tick.hawkes as hk\n",
    "import numpy as np\n",
    "import matplotlib.pyplot as plt\n",
    "import sklearn\n",
    "from bisect import bisect\n",
    "import sys\n",
    "sys.path.append(\"../granger-busca\")\n",
    "from gb import GrangerBusca,simulate,gbio"
   ]
  },
  {
   "cell_type": "code",
   "execution_count": 330,
   "metadata": {
    "scrolled": true
   },
   "outputs": [
    {
     "name": "stdout",
     "output_type": "stream",
     "text": [
      "[[0.2 0.2 0.2 0.2 0.2]\n",
      " [0.2 0.2 0.2 0.2 0.2]\n",
      " [0.2 0.2 0.2 0.2 0.2]\n",
      " [0.2 0.2 0.2 0.2 0.2]\n",
      " [0.2 0.2 0.2 0.2 0.2]]\n"
     ]
    },
    {
     "data": {
      "image/png": "[encoded data removed]",
      "text/plain": [
       "<Figure size 432x288 with 1 Axes>"
      ]
     },
     "metadata": {},
     "output_type": "display_data"
    }
   ],
   "source": [
    "def simulate_SFP(Alpha, d = 20, events_per_proc = 500, beta = 150, mu = 0.2):\n",
    "    Beta = np.ones((d,d))* beta\n",
    "    Mu = np.ones(d)*mu\n",
    "    n_events = d*events_per_proc\n",
    "    sim = simulate.GrangeBuscaSimulator(Mu, Alpha, Beta)\n",
    "    timestamps = sim.simulate(n_events = n_events)\n",
    "    counting = [np.arange(len(timestamps[i])) for i in range(len(timestamps))]\n",
    "    for i in range(len(timestamps)):\n",
    "        plt.plot(timestamps[i], counting[i], label='%d' % i)\n",
    "    return timestamps\n",
    "        \n",
    "d = 5\n",
    "Alpha = np.ones((d,d)) / d\n",
    "mu = 0.003\n",
    "Mu = np.ones(d)*mu\n",
    "beta = 7\n",
    "timestamps = simulate_SFP(Alpha = Alpha, d=d, beta = beta, events_per_proc = 1000, mu=mu)\n",
    "print(Alpha)"
   ]
  },
  {
   "cell_type": "code",
   "execution_count": null,
   "metadata": {
    "scrolled": true
   },
   "outputs": [
    {
     "name": "stdout",
     "output_type": "stream",
     "text": [
      "[[0.2 0.2 0.2 0.2 0.2]\n",
      " [0.2 0.2 0.2 0.2 0.2]\n",
      " [0.2 0.2 0.2 0.2 0.2]\n",
      " [0.2 0.2 0.2 0.2 0.2]\n",
      " [0.2 0.2 0.2 0.2 0.2]] \n",
      " [[5. 9. 2. 9. 6.]\n",
      " [3. 8. 4. 4. 2.]\n",
      " [4. 1. 5. 9. 3.]\n",
      " [7. 5. 2. 1. 4.]\n",
      " [4. 7. 7. 9. 3.]] \n",
      " [0.003 0.003 0.003 0.003 0.003]\n"
     ]
    }
   ],
   "source": [
    "def calc_delta(p1,p2,t_idx,timestamps):\n",
    "    tp=timestamps[p1][t_idx]\n",
    "    tpp_idx = bisect(timestamps[p2], tp)\n",
    "    if tpp_idx == len(timestamps[p2]):\n",
    "        tpp_idx -= 1\n",
    "    tpp = timestamps[p2][tpp_idx]\n",
    "    while tpp >= tp and tpp_idx > 0:\n",
    "        tpp_idx -= 1\n",
    "        tpp = timestamps[p2][tpp_idx]\n",
    "    if tpp >= tp:\n",
    "        return 0\n",
    "    return tp - tpp\n",
    "    \n",
    "\n",
    "def dbeta(a, timestamps, Mu, Alpha, Beta):\n",
    "    db = np.zeros(len(timestamps))\n",
    "    past_delta = np.zeros(len(timestamps))\n",
    "    T = max([max(i) for i in timestamps])    \n",
    "    for t_idx in range(0,len(timestamps[a])):\n",
    "        sum_all = sum([Alpha[i][a]/(Beta[i][a]+calc_delta(a,i,t_idx,timestamps)) if calc_delta(a,i,t_idx,timestamps)>0 else 0 for i in range(len(timestamps))]) \n",
    "        for b in range(len(timestamps)):\n",
    "            v = 0\n",
    "            delta_t = calc_delta(a,b,t_idx,timestamps)\n",
    "            if  delta_t > 0:\n",
    "                v -= Alpha[b][a]/((Mu[a]+sum_all)*(Beta[b][a]+delta_t)**2)\n",
    "                if (t_idx > 1 and past_delta[b]>0):\n",
    "                    v += (Alpha[b][a]*(timestamps[a][t_idx]-timestamps[a][t_idx-1]))/(Beta[b][a]+past_delta[b])**2\n",
    "                past_delta[b] = delta_t\n",
    "            db[b] += v\n",
    "    for b in range(len(timestamps)):\n",
    "        delta_t = (T- timestamps[a][-1])\n",
    "        db[b] += (Alpha[b][a]*delta_t)/(Beta[b][a]+past_delta[b])**2\n",
    "    return db\n",
    "\n",
    "beta_series = [[] for i in range(d*d)]\n",
    "Alpha = Alpha\n",
    "Mu = np.ones(d)*mu\n",
    "Beta = np.ones((d,d))\n",
    "for i in range(d):\n",
    "    for j in range(d):\n",
    "        Beta[i][j] = np.random.rand(1,10)\n",
    "d = len(timestamps)\n",
    "next_beta = Beta\n",
    "print(Alpha,\"\\n\",Beta,\"\\n\",Mu)\n",
    "\n",
    "precision = 1e-2\n",
    "gammab = 0.01\n",
    "prec_reached = False\n",
    "iter = 0\n",
    "while not(prec_reached) and iter<2500:\n",
    "    iter +=1\n",
    "    curr_beta = np.copy(next_beta)\n",
    "    prec_reached = False\n",
    "    \n",
    "    for a in range(d):\n",
    "        next_beta[:,a] = curr_beta[:,a] + gammab*dbeta(a, timestamps, Mu, Alpha, curr_beta)\n",
    "        stepb = np.max(abs(next_beta[:,a] - curr_beta[:,a]))\n",
    "        if stepb > precision:\n",
    "            prec_reached = False\n",
    "        for b in range(d):\n",
    "            beta_series[b*d+a].append(next_beta[b][a])\n",
    "    #print(next_beta[0][:5])\n",
    "print(next_beta)\n",
    "print(np.min(next_beta), np.max(next_beta), np.mean(next_beta), np.std(next_beta))\n",
    "for i in range(d*d):\n",
    "    plt.plot(range(len(beta_series[i])),beta_series[i])\n",
    "    "
   ]
  },
  {
   "cell_type": "code",
   "execution_count": 13,
   "metadata": {
    "scrolled": true
   },
   "outputs": [
    {
     "name": "stdout",
     "output_type": "stream",
     "text": [
      "beta 1.9680425238566424 mu 0.20405787990395155 alpha 1\n"
     ]
    },
    {
     "data": {
      "text/plain": [
       "<matplotlib.legend.Legend at 0x7fa81519b908>"
      ]
     },
     "execution_count": 13,
     "metadata": {},
     "output_type": "execute_result"
    },
    {
     "data": {
      "image/png": "[encoded data removed]",
      "text/plain": [
       "<matplotlib.figure.Figure at 0x7fa814f0c198>"
      ]
     },
     "metadata": {},
     "output_type": "display_data"
    }
   ],
   "source": [
    "def dbeta(timestamps, mu, alpha, beta):\n",
    "    v = 0\n",
    "    for t_idx in range(1,len(timestamps)):\n",
    "        delta_t = timestamps[t_idx] - timestamps[t_idx-1]\n",
    "        v -= alpha/((mu*(beta+delta_t)+alpha)*(beta+delta_t))\n",
    "        if (t_idx > 1):\n",
    "            v += (alpha*delta_t)/(beta+past_delta)**2\n",
    "        past_delta = delta_t\n",
    "    return v\n",
    "\n",
    "def dmu(timestamps, mu, alpha, beta):\n",
    "    T = max(timestamps)\n",
    "    v = -T\n",
    "    for t_idx in range(1,len(timestamps)):\n",
    "        delta_t = timestamps[t_idx] - timestamps[t_idx-1]\n",
    "        v += 1/(mu+alpha/(beta+delta_t))\n",
    "    return v\n",
    "\n",
    "def dalpha(timestamps, mu, alpha, beta):\n",
    "    v = 0\n",
    "    for t_idx in range(1,len(timestamps)):\n",
    "        delta_t = timestamps[t_idx] - timestamps[t_idx-1]\n",
    "        v += 1/(mu*(beta+delta_t)+alpha)\n",
    "        if (t_idx > 1):\n",
    "            v -= (delta_t)/(beta+past_delta)\n",
    "        past_delta = delta_t\n",
    "    return v\n",
    "\n",
    "def loglik(timestamps, mu, alpha, beta):\n",
    "    T = max(timestamps)\n",
    "    v = -T*mu\n",
    "    past_delta = -1\n",
    "    for t_idx in range(1,len(timestamps)):\n",
    "        delta_t = timestamps[t_idx] - timestamps[t_idx-1]\n",
    "        if (mu+alpha/(beta+delta_t))>0:\n",
    "            v += np.log(mu+alpha/(beta+delta_t))\n",
    "        if (past_delta != - 1):\n",
    "            v -= (alpha*delta_t)/(beta+past_delta)\n",
    "        past_delta = delta_t\n",
    "    return v    \n",
    "\n",
    "precision = 1e-5\n",
    "\n",
    "beta_series = []\n",
    "next_beta = 5\n",
    "stepb = next_beta\n",
    "gammab = 0.0005\n",
    "\n",
    "mu_series = []\n",
    "next_mu = 1\n",
    "stepu = next_mu\n",
    "gammau = 0.00004\n",
    "\n",
    "alpha_series = []\n",
    "next_alpha = 1\n",
    "stepa = 1e-10\n",
    "gammaa = 0.0005\n",
    "\n",
    "while(abs(stepb) > precision) or (abs(stepu) > precision) or (abs(stepa) > precision):\n",
    "    curr_beta = next_beta\n",
    "    next_beta = curr_beta + gammab*dbeta(timestamps, next_mu, next_alpha, curr_beta)\n",
    "    next_beta = 0 if next_mu <0 else next_beta\n",
    "    stepb = next_beta - curr_beta\n",
    "    beta_series.append(next_beta)\n",
    "    \n",
    "    curr_mu = next_mu\n",
    "    next_mu = curr_mu + gammau*dmu(timestamps, curr_mu, next_alpha, next_beta)\n",
    "    next_mu = 0 if next_mu < 0 else next_mu\n",
    "    stepu = next_mu - curr_mu\n",
    "    mu_series.append(next_mu)\n",
    "    \n",
    "    '''curr_alpha = next_alpha\n",
    "    next_alpha = curr_alpha + gammaa*dalpha(timestamps, next_mu, curr_alpha, next_beta)\n",
    "    next_alpha = 0 if next_alpha < 0 else next_alpha\n",
    "    stepa = next_alpha - curr_alpha\n",
    "    alpha_series.append(next_alpha)'''\n",
    "    \n",
    "print(\"beta\",next_beta,\"mu\",next_mu,\"alpha\",next_alpha)\n",
    "    \n",
    "\n",
    "plt.plot(range(len(beta_series)),beta_series,'b',label='beta')\n",
    "plt.plot(range(len(mu_series)),mu_series,'g',label='mu')\n",
    "plt.plot(range(len(alpha_series)),alpha_series,'r',label='alpha')\n",
    "plt.legend()"
   ]
  },
  {
   "cell_type": "code",
   "execution_count": 266,
   "metadata": {},
   "outputs": [
    {
     "name": "stdout",
     "output_type": "stream",
     "text": [
      "[[1.         0.         0.        ]\n",
      " [0.33333333 0.33333333 0.33333333]\n",
      " [0.33333333 0.33333333 0.33333333]] \n",
      " [[4. 4. 4.]\n",
      " [4. 4. 4.]\n",
      " [4. 4. 4.]] \n",
      " [0.001 0.001 0.001]\n",
      "4.6\n"
     ]
    },
    {
     "data": {
      "image/png": "[encoded data removed]",
      "text/plain": [
       "<Figure size 432x288 with 1 Axes>"
      ]
     },
     "metadata": {},
     "output_type": "display_data"
    },
    {
     "data": {
      "image/png": "[encoded data removed]",
      "text/plain": [
       "<Figure size 432x288 with 1 Axes>"
      ]
     },
     "metadata": {},
     "output_type": "display_data"
    }
   ],
   "source": [
    "def granger_loglik(timestamps, Mu, Alpha, Beta): \n",
    "    mu = Mu\n",
    "    Alpha = Alpha\n",
    "    Beta = Beta\n",
    "    assert len(timestamps) == len(mu)\n",
    "    T = max([max(i) for i in timestamps])\n",
    "    p = 0\n",
    "    d = len(timestamps)\n",
    "    for p1 in range(d):\n",
    "        past_term = [0]*d\n",
    "        for t_idx in range(len(timestamps[p1])):\n",
    "            delta_ba = 0\n",
    "            first_term = 0\n",
    "            integral = 0\n",
    "            for p2 in range(d):\n",
    "                delta_ba = calc_delta(p1,p2,t_idx,timestamps)              \n",
    "                if(delta_ba>0):\n",
    "                    first_term += Alpha[p2][p1] / (Beta[p2][p1]+delta_ba)\n",
    "                integral += past_term[p2] * (timestamps[p1][t_idx]-timestamps[p1][t_idx-1])\n",
    "                \n",
    "                if(delta_ba>0):\n",
    "                    past_term[p2] = Alpha[p2][p1] / (Beta[p2][p1]+delta_ba)                  \n",
    "                else:\n",
    "                    past_term[p2] = 0.\n",
    "            p += np.log(mu[p1]+first_term)-integral\n",
    "\n",
    "        end_integral = 0    \n",
    "        for p2 in range(d):\n",
    "            if(t_idx>0):\n",
    "                end_integral += past_term[p2]*(T-timestamps[p1][-1])\n",
    "\n",
    "        p -= end_integral\n",
    "\n",
    "        p -= T*mu[p1]\n",
    "\n",
    "    return p\n",
    "\n",
    "l=[]\n",
    "ldev = []\n",
    "d = 3\n",
    "Alpha = Alpha\n",
    "Mu = np.ones(d)*mu\n",
    "Beta = np.ones((d,d))*4\n",
    "b, a = 1,0\n",
    "maxv = float(\"-inf\")\n",
    "maxi = 0\n",
    "print(Alpha,\"\\n\",Beta,\"\\n\",Mu)\n",
    "X = np.arange(0.1,10,0.5)\n",
    "Beta[b][a] = 5\n",
    "for betav in X:\n",
    "    Beta[b][a] = betav\n",
    "    ldev.append(dbeta(b, a, timestamps, Mu, Alpha, Beta))\n",
    "    l.append(granger_loglik(timestamps, Mu, Alpha, Beta))\n",
    "    if(l[-1] > maxv):\n",
    "        maxi = betav\n",
    "        maxv = l[-1]\n",
    "print(maxi)\n",
    "plt.plot(X,l,'b',label='beta')\n",
    "plt.axvline(x=maxi, color='k', linestyle='--')\n",
    "plt.show()\n",
    "plt.plot(X,ldev,'r')\n",
    "plt.ylim([-0.01,20])\n",
    "plt.show()\n"
   ]
  },
  {
   "cell_type": "code",
   "execution_count": 296,
   "metadata": {},
   "outputs": [
    {
     "name": "stdout",
     "output_type": "stream",
     "text": [
      "1.309046152017502 2.7619781177334586 2.125538981383147 2.163723914601828\n"
     ]
    }
   ],
   "source": [
    "print(np.min(next_beta), np.max(next_beta), np.mean(next_beta), np.median(next_beta))\n"
   ]
  },
  {
   "cell_type": "code",
   "execution_count": null,
   "metadata": {},
   "outputs": [],
   "source": []
  }
 ],
 "metadata": {
  "kernelspec": {
   "display_name": "Python 3",
   "language": "python",
   "name": "python3"
  },
  "language_info": {
   "codemirror_mode": {
    "name": "ipython",
    "version": 3
   },
   "file_extension": ".py",
   "mimetype": "text/x-python",
   "name": "python",
   "nbconvert_exporter": "python",
   "pygments_lexer": "ipython3",
   "version": "3.6.7"
  }
 },
 "nbformat": 4,
 "nbformat_minor": 2
}
